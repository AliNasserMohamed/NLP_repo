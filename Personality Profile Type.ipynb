{
 "cells": [
  {
   "cell_type": "markdown",
   "metadata": {},
   "source": [
    "**Dataset:**\n",
    "personality type data (Lab 2 - Personality Profile Type.csv)\n",
    "\n",
    "**Objective:**\n",
    "classify Personality type as one of the following **using RNNs**. <br>\n",
    "['INFJ', 'ENTP', 'INTP', 'INTJ', 'ENTJ', 'ENFJ', 'INFP', 'ENFP',\n",
    "       'ISFP', 'ISTP', 'ISFJ', 'ISTJ', 'ESTP', 'ESFP', 'ESTJ', 'ESFJ']\n",
    "\n",
    "**Evaluation metric:**\n",
    "Precision"
   ]
  },
  {
   "cell_type": "markdown",
   "metadata": {
    "id": "v-6lrKz6orxT"
   },
   "source": [
    "### Import used libraries"
   ]
  },
  {
   "cell_type": "code",
   "execution_count": 99,
   "metadata": {
    "id": "eXUPo3g4orxV"
   },
   "outputs": [],
   "source": [
    "import pandas as pd\n",
    "import numpy as np\n",
    "import tensorflow as tf\n",
    "import spacy\n",
    "import re\n",
    "import matplotlib.pyplot as plt \n",
    "pd.set_option('display.max_rows', 500)\n",
    "pd.set_option('display.max_colwidth', 500)\n",
    "from tensorflow.keras.preprocessing.text import Tokenizer\n",
    "from tensorflow.keras.preprocessing.text import Tokenizer\n",
    "from tensorflow.keras.preprocessing.sequence import pad_sequences\n",
    "from sklearn.model_selection import train_test_split\n"
   ]
  },
  {
   "cell_type": "markdown",
   "metadata": {
    "id": "fG8MkuvjorxX"
   },
   "source": [
    "### Load Dataset"
   ]
  },
  {
   "cell_type": "code",
   "execution_count": 100,
   "metadata": {
    "id": "BYeqhp66orxY"
   },
   "outputs": [
    {
     "data": {
      "text/html": [
       "<div>\n",
       "<style scoped>\n",
       "    .dataframe tbody tr th:only-of-type {\n",
       "        vertical-align: middle;\n",
       "    }\n",
       "\n",
       "    .dataframe tbody tr th {\n",
       "        vertical-align: top;\n",
       "    }\n",
       "\n",
       "    .dataframe thead th {\n",
       "        text-align: right;\n",
       "    }\n",
       "</style>\n",
       "<table border=\"1\" class=\"dataframe\">\n",
       "  <thead>\n",
       "    <tr style=\"text-align: right;\">\n",
       "      <th></th>\n",
       "      <th>type</th>\n",
       "      <th>posts</th>\n",
       "    </tr>\n",
       "  </thead>\n",
       "  <tbody>\n",
       "    <tr>\n",
       "      <th>0</th>\n",
       "      <td>INFJ</td>\n",
       "      <td>'http://www.youtube.com/watch?v=qsXHcwe3krw|||http://41.media.tumblr.com/tumblr_lfouy03PMA1qa1rooo1_500.jpg|||enfp and intj moments  https://www.youtube.com/watch?v=iz7lE1g4XM4  sportscenter not top ten plays  https://www.youtube.com/watch?v=uCdfze1etec  pranks|||What has been the most life-changing experience in your life?|||http://www.youtube.com/watch?v=vXZeYwwRDw8   http://www.youtube.com/watch?v=u8ejam5DP3E  On repeat for most of today.|||May the PerC Experience immerse you.|||The last ...</td>\n",
       "    </tr>\n",
       "    <tr>\n",
       "      <th>1</th>\n",
       "      <td>ENTP</td>\n",
       "      <td>'I'm finding the lack of me in these posts very alarming.|||Sex can be boring if it's in the same position often. For example me and my girlfriend are currently in an environment where we have to creatively use cowgirl and missionary. There isn't enough...|||Giving new meaning to 'Game' theory.|||Hello *ENTP Grin*  That's all it takes. Than we converse and they do most of the flirting while I acknowledge their presence and return their words with smooth wordplay and more cheeky grins.|||This...</td>\n",
       "    </tr>\n",
       "    <tr>\n",
       "      <th>2</th>\n",
       "      <td>INTP</td>\n",
       "      <td>'Good one  _____   https://www.youtube.com/watch?v=fHiGbolFFGw|||Of course, to which I say I know; that's my blessing and my curse.|||Does being absolutely positive that you and your best friend could be an amazing couple count? If so, than yes.   Or it's more I could be madly in love in case I reconciled my feelings (which at...|||No, I didn't; thank you for a link!|||So-called Ti-Si loop (and it can stem from any current topic/obsession) can be deadly. It's like when you're stuck in your o...</td>\n",
       "    </tr>\n",
       "    <tr>\n",
       "      <th>3</th>\n",
       "      <td>INTJ</td>\n",
       "      <td>'Dear INTP,   I enjoyed our conversation the other day.  Esoteric gabbing about the nature of the universe and the idea that every rule and social code being arbitrary constructs created...|||Dear ENTJ sub,   Long time no see.  Sincerely, Alpha|||None of them. All other types hurt in deep existential ways that I want no part of.|||Probably a sliding scale that depends on individual preferences, like everything in humanity.|||Draco Malfoy also. I'd say he's either 358 or 368.|||I'm either 358...</td>\n",
       "    </tr>\n",
       "    <tr>\n",
       "      <th>4</th>\n",
       "      <td>ENTJ</td>\n",
       "      <td>'You're fired.|||That's another silly misconception. That approaching is logically is going to be the key to unlocking whatever it is you think you are entitled to.   Nobody wants to be approached with BS...|||But guys... he REALLY wants to go on a super-duper-long-ass vacation. C'mon guys. His boss just doesn't listen or get it. He even approached him logically and everything.|||Never mind. Just go on permanent vacation.|||Two months? I wouldn't be crazy about the idea. If you are really hi...</td>\n",
       "    </tr>\n",
       "    <tr>\n",
       "      <th>5</th>\n",
       "      <td>INTJ</td>\n",
       "      <td>'18/37 @.@|||Science  is not perfect. No scientist claims that it is, or that scientific  information will not be revised as we discover new things.  Rational  thinking has been very useful to our society....|||INFP- Edgar Allen Poe was an INFP and he's in your siggy.|||People see the obvious Fi and are quick to put her as INFP. I agree that she has no Ne. I see her as an ISFP. Compare her to Haku (definite INFP). She is flat through most of Naruto.. but I don't...|||Lets get this party star...</td>\n",
       "    </tr>\n",
       "    <tr>\n",
       "      <th>6</th>\n",
       "      <td>INFJ</td>\n",
       "      <td>'No, I can't draw on my own nails (haha). Those were done by professionals on my nails. And yes, those are all gel.  You mean those you posted were done by yourself on your own nails? Awesome!|||Probably the Electronic Screen Syndrome. With the advent of technology and social media, we all suffer from overstimulation on a daily basis. I'm guilty as well. In the past, I can be happy just...|||I love nail arts too! These are some of mine:  718282 718290 718298 718306 718314|||This is the first...</td>\n",
       "    </tr>\n",
       "    <tr>\n",
       "      <th>7</th>\n",
       "      <td>INTJ</td>\n",
       "      <td>'I tend to build up a collection of things on my desktop that i use frequently and then move them into a folder called  'Everything' from there it get sorted into type and sub type|||i ike to collect odd objects, even at work...a lot of people would call it junk but i like to collect it.  Old unused software? ill take that off your hands :) i have a bunch of old adobe...|||i think its quite normal, i tend to only see my friends in real life every couple of months, as said earlier some people...</td>\n",
       "    </tr>\n",
       "    <tr>\n",
       "      <th>8</th>\n",
       "      <td>INFJ</td>\n",
       "      <td>I'm not sure, that's a good question. The distinction between the two is so dependant on perception. To quote Robb Flynn, ''The hate you feel is nothing more, than love you feel to win this war.''|||Good question! It's tough to say for sure but I loved Winona Ryder as Lydia in Beetlejuice...  http://i63.photobucket.com/albums/h158/trinsghost/Misc-Images/2921aa070866f20450f8e1160b1e5d41.jpg|||https://www.youtube.com/watch?v=r5If816MhoU|||https://www.youtube.com/watch?v=Q-sQklvpDhA|||I've been...</td>\n",
       "    </tr>\n",
       "    <tr>\n",
       "      <th>9</th>\n",
       "      <td>INTP</td>\n",
       "      <td>'https://www.youtube.com/watch?v=w8-egj0y8Qs|||I'm in this position where I have to actually let go of the person, due to a various reasons. Unfortunately I'm having trouble mustering enough strength to actually pull through it. Sometimes,...|||WHAT A YEAR, MAN. WHAT A YEAR.   I am just utterly bewildered with my 20s at this point.|||my laundry. as long as i've got clothes left to wear i'm fine.  and then the time comes that i DO run out, and i'm left to contend with The Mountain that is my ...</td>\n",
       "    </tr>\n",
       "  </tbody>\n",
       "</table>\n",
       "</div>"
      ],
      "text/plain": [
       "   type  \\\n",
       "0  INFJ   \n",
       "1  ENTP   \n",
       "2  INTP   \n",
       "3  INTJ   \n",
       "4  ENTJ   \n",
       "5  INTJ   \n",
       "6  INFJ   \n",
       "7  INTJ   \n",
       "8  INFJ   \n",
       "9  INTP   \n",
       "\n",
       "                                                                                                                                                                                                                                                                                                                                                                                                                                                                                                                 posts  \n",
       "0  'http://www.youtube.com/watch?v=qsXHcwe3krw|||http://41.media.tumblr.com/tumblr_lfouy03PMA1qa1rooo1_500.jpg|||enfp and intj moments  https://www.youtube.com/watch?v=iz7lE1g4XM4  sportscenter not top ten plays  https://www.youtube.com/watch?v=uCdfze1etec  pranks|||What has been the most life-changing experience in your life?|||http://www.youtube.com/watch?v=vXZeYwwRDw8   http://www.youtube.com/watch?v=u8ejam5DP3E  On repeat for most of today.|||May the PerC Experience immerse you.|||The last ...  \n",
       "1  'I'm finding the lack of me in these posts very alarming.|||Sex can be boring if it's in the same position often. For example me and my girlfriend are currently in an environment where we have to creatively use cowgirl and missionary. There isn't enough...|||Giving new meaning to 'Game' theory.|||Hello *ENTP Grin*  That's all it takes. Than we converse and they do most of the flirting while I acknowledge their presence and return their words with smooth wordplay and more cheeky grins.|||This...  \n",
       "2  'Good one  _____   https://www.youtube.com/watch?v=fHiGbolFFGw|||Of course, to which I say I know; that's my blessing and my curse.|||Does being absolutely positive that you and your best friend could be an amazing couple count? If so, than yes.   Or it's more I could be madly in love in case I reconciled my feelings (which at...|||No, I didn't; thank you for a link!|||So-called Ti-Si loop (and it can stem from any current topic/obsession) can be deadly. It's like when you're stuck in your o...  \n",
       "3  'Dear INTP,   I enjoyed our conversation the other day.  Esoteric gabbing about the nature of the universe and the idea that every rule and social code being arbitrary constructs created...|||Dear ENTJ sub,   Long time no see.  Sincerely, Alpha|||None of them. All other types hurt in deep existential ways that I want no part of.|||Probably a sliding scale that depends on individual preferences, like everything in humanity.|||Draco Malfoy also. I'd say he's either 358 or 368.|||I'm either 358...  \n",
       "4  'You're fired.|||That's another silly misconception. That approaching is logically is going to be the key to unlocking whatever it is you think you are entitled to.   Nobody wants to be approached with BS...|||But guys... he REALLY wants to go on a super-duper-long-ass vacation. C'mon guys. His boss just doesn't listen or get it. He even approached him logically and everything.|||Never mind. Just go on permanent vacation.|||Two months? I wouldn't be crazy about the idea. If you are really hi...  \n",
       "5  '18/37 @.@|||Science  is not perfect. No scientist claims that it is, or that scientific  information will not be revised as we discover new things.  Rational  thinking has been very useful to our society....|||INFP- Edgar Allen Poe was an INFP and he's in your siggy.|||People see the obvious Fi and are quick to put her as INFP. I agree that she has no Ne. I see her as an ISFP. Compare her to Haku (definite INFP). She is flat through most of Naruto.. but I don't...|||Lets get this party star...  \n",
       "6  'No, I can't draw on my own nails (haha). Those were done by professionals on my nails. And yes, those are all gel.  You mean those you posted were done by yourself on your own nails? Awesome!|||Probably the Electronic Screen Syndrome. With the advent of technology and social media, we all suffer from overstimulation on a daily basis. I'm guilty as well. In the past, I can be happy just...|||I love nail arts too! These are some of mine:  718282 718290 718298 718306 718314|||This is the first...  \n",
       "7  'I tend to build up a collection of things on my desktop that i use frequently and then move them into a folder called  'Everything' from there it get sorted into type and sub type|||i ike to collect odd objects, even at work...a lot of people would call it junk but i like to collect it.  Old unused software? ill take that off your hands :) i have a bunch of old adobe...|||i think its quite normal, i tend to only see my friends in real life every couple of months, as said earlier some people...  \n",
       "8  I'm not sure, that's a good question. The distinction between the two is so dependant on perception. To quote Robb Flynn, ''The hate you feel is nothing more, than love you feel to win this war.''|||Good question! It's tough to say for sure but I loved Winona Ryder as Lydia in Beetlejuice...  http://i63.photobucket.com/albums/h158/trinsghost/Misc-Images/2921aa070866f20450f8e1160b1e5d41.jpg|||https://www.youtube.com/watch?v=r5If816MhoU|||https://www.youtube.com/watch?v=Q-sQklvpDhA|||I've been...  \n",
       "9  'https://www.youtube.com/watch?v=w8-egj0y8Qs|||I'm in this position where I have to actually let go of the person, due to a various reasons. Unfortunately I'm having trouble mustering enough strength to actually pull through it. Sometimes,...|||WHAT A YEAR, MAN. WHAT A YEAR.   I am just utterly bewildered with my 20s at this point.|||my laundry. as long as i've got clothes left to wear i'm fine.  and then the time comes that i DO run out, and i'm left to contend with The Mountain that is my ...  "
      ]
     },
     "execution_count": 100,
     "metadata": {},
     "output_type": "execute_result"
    }
   ],
   "source": [
    "df = pd.read_csv(\"Lab 2 - Personality Profile Type.csv\")\n",
    "df.head(10)"
   ]
  },
  {
   "cell_type": "markdown",
   "metadata": {},
   "source": [
    "### Data splitting"
   ]
  },
  {
   "cell_type": "code",
   "execution_count": 101,
   "metadata": {},
   "outputs": [],
   "source": [
    "df = df.sample(frac=1, random_state=42).reset_index(drop=True)\n",
    "df_train=df.iloc[0:int(len(df)*0.8),:]\n",
    "df_test=df.iloc[int(len(df)*0.8):,:]"
   ]
  },
  {
   "cell_type": "code",
   "execution_count": 102,
   "metadata": {},
   "outputs": [
    {
     "name": "stdout",
     "output_type": "stream",
     "text": [
      "df_train (6940, 2)\n",
      "df_test (1735, 2)\n"
     ]
    }
   ],
   "source": [
    "print(\"df_train\",df_train.shape)\n",
    "print(\"df_test\",df_test.shape)"
   ]
  },
  {
   "cell_type": "markdown",
   "metadata": {
    "id": "hqWVKi_GorxZ"
   },
   "source": [
    "### EDA on training data"
   ]
  },
  {
   "cell_type": "markdown",
   "metadata": {
    "id": "R1zxJpFxorxa"
   },
   "source": [
    "- check NaNs"
   ]
  },
  {
   "cell_type": "code",
   "execution_count": 103,
   "metadata": {
    "id": "HVEttSujorxa"
   },
   "outputs": [
    {
     "data": {
      "text/plain": [
       "type     0\n",
       "posts    0\n",
       "dtype: int64"
      ]
     },
     "execution_count": 103,
     "metadata": {},
     "output_type": "execute_result"
    }
   ],
   "source": [
    "df_train.isna().sum()"
   ]
  },
  {
   "cell_type": "markdown",
   "metadata": {
    "id": "UwjbzVaIorxb"
   },
   "source": [
    "- check duplicates"
   ]
  },
  {
   "cell_type": "code",
   "execution_count": 104,
   "metadata": {
    "id": "J_FlBWISorxb"
   },
   "outputs": [
    {
     "name": "stdout",
     "output_type": "stream",
     "text": [
      "0\n"
     ]
    }
   ],
   "source": [
    "duplicate_rows = df_train[df_train[\"posts\"].duplicated()]\n",
    "print(len(duplicate_rows))"
   ]
  },
  {
   "cell_type": "markdown",
   "metadata": {
    "id": "YjIBFc35orxc"
   },
   "source": [
    "- show a representative sample of data texts to find out required preprocessing steps"
   ]
  },
  {
   "cell_type": "code",
   "execution_count": 105,
   "metadata": {
    "id": "zGFKzSCRorxc"
   },
   "outputs": [
    {
     "data": {
      "text/html": [
       "<div>\n",
       "<style scoped>\n",
       "    .dataframe tbody tr th:only-of-type {\n",
       "        vertical-align: middle;\n",
       "    }\n",
       "\n",
       "    .dataframe tbody tr th {\n",
       "        vertical-align: top;\n",
       "    }\n",
       "\n",
       "    .dataframe thead th {\n",
       "        text-align: right;\n",
       "    }\n",
       "</style>\n",
       "<table border=\"1\" class=\"dataframe\">\n",
       "  <thead>\n",
       "    <tr style=\"text-align: right;\">\n",
       "      <th></th>\n",
       "      <th>type</th>\n",
       "      <th>posts</th>\n",
       "    </tr>\n",
       "  </thead>\n",
       "  <tbody>\n",
       "    <tr>\n",
       "      <th>0</th>\n",
       "      <td>INTP</td>\n",
       "      <td>'This. When I lie it's to avoid an unreasonable response for something I did that was completely justifiable to me but if I was to try to justify to someone else they'd be too hung up on what I did. I...|||Your IQ (SD15): 128|||I typically have very difficult times maintaining friends I've come to realize. I've had people I talk to for years and I still don't want to talk to them... I DID, but then I just got bored of them,...|||An INTJ friend of mine told me she really hates eating because ...</td>\n",
       "    </tr>\n",
       "    <tr>\n",
       "      <th>1</th>\n",
       "      <td>INTJ</td>\n",
       "      <td>'I said zero flexibility and little time for dating. Going around sifting through dates to find one that clicks isn't going to be as viable.  That has nothing to do with maintaining a relationship I...|||How you've come to the conclusion I have nothing to offer  merely because I am busy is beyond me.       No not really. Again, more made up stuff.|||okay, this isn't cool.  you're specifically looking to get into a relationship because you're about to enter a life phase where you will not hav...</td>\n",
       "    </tr>\n",
       "    <tr>\n",
       "      <th>2</th>\n",
       "      <td>INTP</td>\n",
       "      <td>'This has to be written with bias or something, I'm not sure how you could even say that truthfully. For some reason you put subjectivity for both God and man? It says nothing.    That makes no...|||??? How?  The main priority of the church is written throughout it's texts for the past nearly 2000 years and reverberated throughout the church's dialogues both before and after the incident about...|||That's an annoying phrasing, as it's just obtuse and confusing to newcomers. I don't blame you...</td>\n",
       "    </tr>\n",
       "    <tr>\n",
       "      <th>3</th>\n",
       "      <td>ENFP</td>\n",
       "      <td>'HAuhuHAuh You might be right Muhicz. I'm just wondering if these steps come exactly the same ages like it said, it's tought to believe scientifically... but, it doesn't really matter, the point is...|||Thank you, MisterJordan. Your words are helpfull. It helps me to think that the conflicting beetwen Fi and Ti could be an inner development of myself, improving who I am. But I must say I'm not the...|||I've read about the Fe and Fi functions, I'm a Fi. I also know well about the MBTI types, ...</td>\n",
       "    </tr>\n",
       "    <tr>\n",
       "      <th>4</th>\n",
       "      <td>ENTJ</td>\n",
       "      <td>'Her parents are kind of the go to college = good job people, and they want her to have a stable career. She on the other hand, wants to travel, perhaps teach English in foreign lands (especially in...|||I have a friend who is going through this crisis.   She is about to graduate high school, and has absolutely know idea what to do with her life. She doesn't have anything she's really passionate...|||I recently met a few waitresses at one restaurant in my town who served for a living. I know...</td>\n",
       "    </tr>\n",
       "    <tr>\n",
       "      <th>5</th>\n",
       "      <td>INFJ</td>\n",
       "      <td>'that's so ironic, considering how your signature is cats are the better people.. cats are known to kill or play with their prey for fun. you think that's wrong because that's how you were...|||ooh, I'm a virgo rising INFJ! virgo is also one of my fav zodiac signs.  INFJ's is that kind and honest childhood friend who even after years of not talking would be happy to check up on you and...|||I'm consumed by machiavellianism in dark periods of my life. I sometimes just get fed up by all the fa...</td>\n",
       "    </tr>\n",
       "    <tr>\n",
       "      <th>6</th>\n",
       "      <td>INTJ</td>\n",
       "      <td>'Well said , Codger.|||You will like it. :proud:|||Never mind. Apologies for the intrusion.|||True.  Hey Cetanu. Been a while. How ya doin ?|||Hey ChancyRose, how are ya ? Add me to that list too. The punching bag thing didn't really work...|||I've got mine on; and the world is still retarded....among other things.|||Good luck.|||u200b Good morning people..|||Anyway... Nothing to do but go to bed and deal with whatever bullshit my subconscious has in store for me. At least it would be a chan...</td>\n",
       "    </tr>\n",
       "    <tr>\n",
       "      <th>7</th>\n",
       "      <td>ENTP</td>\n",
       "      <td>'Just curious. I realise this is a bit of a stupid question, and bound to generalisations, but would there be anything the way NFs look, dress etc which is distinguishable from others?|||I can relate to this so much it's ridiculous|||Nothing goes unnoticed.|||I 'deal' with loneliness by:  - Rationalising and shooing it away (only works less than half of the time) - Focusing on my main current goal (successfully used loneliness as an excuse to do well...|||Aerospace Engineering (check) Civil ...</td>\n",
       "    </tr>\n",
       "    <tr>\n",
       "      <th>8</th>\n",
       "      <td>ESTJ</td>\n",
       "      <td>Boring means men who are usually quite and self absorbed when I'm with them ,I like men who know how to start a meaningful conversation and have a good sense of humor to make me laugh and flirt with...|||Well most important thing according to me would be ,yes definitely he shouldn't be a boring person ,also I prefer men who are good looking but are concerned about their health more than their looks,...|||That's some good and sensible advice you gave here for people who want to get a tattoo f...</td>\n",
       "    </tr>\n",
       "    <tr>\n",
       "      <th>9</th>\n",
       "      <td>INTP</td>\n",
       "      <td>'I can seem like an INTJ or like an INFJ at times.    Can't be any of the SJ types.|||Definitely not. Social skills can be practiced and enhanced. I find socialization and public speaking easy and simple.|||Shyness and insecurity are not related to being extroverted/introverted.  Perhaps you were always an extrovert but were restraining yourself form getting the socialization you craved, because of...|||An ESTJ figurehead  An INTP actually cleverly planning everything  An ENTJ to boss around...</td>\n",
       "    </tr>\n",
       "    <tr>\n",
       "      <th>10</th>\n",
       "      <td>ISTP</td>\n",
       "      <td>'I don't really tend to get nostalgic, I am very fixed in the present and seldom think about the past nor the future and when do, I more often think about the future than the past. One thing that hits...|||https://i.giphy.com/media/3oEduKOYEB7s41EQP6/giphy.gif|||702922|||https://68.media.tumblr.com/90e3513146ad0198ea78d2942913ef3e/tumblr_ohn0zagVQ41udaa61o1_500.gif|||I am reviving this thread :tongue:  So I got a list with what I now consider to be harmless awkward moments I've been through ...</td>\n",
       "    </tr>\n",
       "    <tr>\n",
       "      <th>11</th>\n",
       "      <td>ENFP</td>\n",
       "      <td>'Lady, the person decided themselves to post here. What you are terming dirty laundry. They did that, not me.  They posted a shitton of lies, for no reason. Just out of nowhere, suddenly, without...|||What was drawn out of proportion, and where was aggression introduced.  Like was said pages ago... if you don't want the answer to your question, don't ask. If you don't want to provide proof with...|||When my only purpose in being in this thread was to correct someone defaming me with lies... ...</td>\n",
       "    </tr>\n",
       "    <tr>\n",
       "      <th>12</th>\n",
       "      <td>INFJ</td>\n",
       "      <td>'In a sense, yes. There is so much egotism around (esp. online) that just now I feel I'm losing interest in being active on this forum.|||https://www.youtube.com/watch?v=Mc44P-nT_-M  Mais perto do que pensas - Closer than you think  If there is a Portuguese speaking person here, they could translate the whole lyrics. I would...|||Hey ENTJs,  I know this is an old thread I'm excavating, since I didn't want to make a new one. It has something to do with not wanting too much attention. I have f...</td>\n",
       "    </tr>\n",
       "    <tr>\n",
       "      <th>13</th>\n",
       "      <td>ENFP</td>\n",
       "      <td>'Now you got me excited about bamboos! I just learned that they grow in my zone. I needed a new/fun/exciting thing to work on, and it looks like this might be it. :)|||SO EXCITING!!! I love growing the huge sunflowers. I've never grown bamboo before, but now you've inspired me to study about it. :) I'll probably look it up soon.  We should start an EFNP Gardening...|||Confession: I was the same way before I got fish, but I tossed my fish out last Summer. :(  I was SO excited to get my first ...</td>\n",
       "    </tr>\n",
       "    <tr>\n",
       "      <th>14</th>\n",
       "      <td>ISTP</td>\n",
       "      <td>'Judging by your selection of films, you would love it. Probably the best period/costume piece I've ever seen.|||What are your top 10 favorite movies? I don't really like TV, movies are way more appealing to me. I also want to see what other ISTP's like since I've never seen an ISTP forum for this (believe it...|||Old school is always cool, I don't mind doing things that are out-dated.  I don't even text a lot. I usually send one or two texts a day, and that's just during school. I don't tal...</td>\n",
       "    </tr>\n",
       "    <tr>\n",
       "      <th>15</th>\n",
       "      <td>INFJ</td>\n",
       "      <td>'I've never come across an ENTP IRL, so I could say the same of ENTPs.  ENTPs in the Bay Area: holler|||https://youtu.be/n5LyTqCfj6E  Which of the four are you?  Do you see any correlations between your habit type from Gretchen's ideas and your Type Six characteristics?|||Her mentioning an ex is a red flag. Was it a Freudian Slip, or was it a conversation topic? I can only guess she has emotional baggage from not being over her ex.  If I were in your position, I...|||I'm trying to imagine wh...</td>\n",
       "    </tr>\n",
       "    <tr>\n",
       "      <th>16</th>\n",
       "      <td>INTP</td>\n",
       "      <td>'edIT is the good shit|||RHNB actually came up in conversation the other day, and somebody actually asked Why nickel instead of some other metal?  I didn't have a good answer.|||Sounds like you just found a typical INTP and he's the one who struck gold|||Yeah but what if you're not wearing pants??????|||Whenever you have the urge to see him again, then just give him a call/text/carrier pigeon/singing telegram asking if he's free to hang out on a given date and time window. If he's busy then ...</td>\n",
       "    </tr>\n",
       "    <tr>\n",
       "      <th>17</th>\n",
       "      <td>INTP</td>\n",
       "      <td>'I find ISTJ's are more organised and remember names and dates better than INTJ's. INTJ's are much better at solving problems and arguing constructively.|||Can someone please give me a practical example? I don't understand this function.|||Imagine you are looking at a bottle deodorant in a store and analysing, why the colour, why on this rack in the store, why the smell, why the ingredients, how was it made, who brought it, how many...|||Sure you're speaking about INTP's. I and the other INT...</td>\n",
       "    </tr>\n",
       "    <tr>\n",
       "      <th>18</th>\n",
       "      <td>ENFJ</td>\n",
       "      <td>'Yes, I have gone completely cold hearted towards people that earned that from me|||I'm a heavy introvert, yet everyone at work loves me. I talk to poeple all the time and I will often times engage in conversation with those I work with.  However I cannot wait to get home and be...|||Filled it out =) Good luck on your project!!!|||I would think INFJ would be the most thinking feeler, in all truth infp is the most NF of the NFs haha  I had this after thought.  INFJs are the NTs of NFs INFPs a...</td>\n",
       "    </tr>\n",
       "    <tr>\n",
       "      <th>19</th>\n",
       "      <td>INFJ</td>\n",
       "      <td>http://media.tumblr.com/tumblr_m7aqyr03kG1qcs7kp.gif|||Hello everyone.  As an avid D&amp;D player, I felt a need to share this dice shaming picture.  I would create my own if I had not abandoned my traitorous, speckled d20 so long ago.|||https://i.chzbgr.com/maxW500/8247933440/h2761EF8A/|||Life is quite lovely right now. &lt;3|||My internet connection is being piss-poor, but other than that, things are going fairly well.  How are you guys?|||Hello. c:|||http://24.media.tumblr.com/tumblr_m6jxmaJ3cA1...</td>\n",
       "    </tr>\n",
       "  </tbody>\n",
       "</table>\n",
       "</div>"
      ],
      "text/plain": [
       "    type  \\\n",
       "0   INTP   \n",
       "1   INTJ   \n",
       "2   INTP   \n",
       "3   ENFP   \n",
       "4   ENTJ   \n",
       "5   INFJ   \n",
       "6   INTJ   \n",
       "7   ENTP   \n",
       "8   ESTJ   \n",
       "9   INTP   \n",
       "10  ISTP   \n",
       "11  ENFP   \n",
       "12  INFJ   \n",
       "13  ENFP   \n",
       "14  ISTP   \n",
       "15  INFJ   \n",
       "16  INTP   \n",
       "17  INTP   \n",
       "18  ENFJ   \n",
       "19  INFJ   \n",
       "\n",
       "                                                                                                                                                                                                                                                                                                                                                                                                                                                                                                                  posts  \n",
       "0   'This. When I lie it's to avoid an unreasonable response for something I did that was completely justifiable to me but if I was to try to justify to someone else they'd be too hung up on what I did. I...|||Your IQ (SD15): 128|||I typically have very difficult times maintaining friends I've come to realize. I've had people I talk to for years and I still don't want to talk to them... I DID, but then I just got bored of them,...|||An INTJ friend of mine told me she really hates eating because ...  \n",
       "1   'I said zero flexibility and little time for dating. Going around sifting through dates to find one that clicks isn't going to be as viable.  That has nothing to do with maintaining a relationship I...|||How you've come to the conclusion I have nothing to offer  merely because I am busy is beyond me.       No not really. Again, more made up stuff.|||okay, this isn't cool.  you're specifically looking to get into a relationship because you're about to enter a life phase where you will not hav...  \n",
       "2   'This has to be written with bias or something, I'm not sure how you could even say that truthfully. For some reason you put subjectivity for both God and man? It says nothing.    That makes no...|||??? How?  The main priority of the church is written throughout it's texts for the past nearly 2000 years and reverberated throughout the church's dialogues both before and after the incident about...|||That's an annoying phrasing, as it's just obtuse and confusing to newcomers. I don't blame you...  \n",
       "3   'HAuhuHAuh You might be right Muhicz. I'm just wondering if these steps come exactly the same ages like it said, it's tought to believe scientifically... but, it doesn't really matter, the point is...|||Thank you, MisterJordan. Your words are helpfull. It helps me to think that the conflicting beetwen Fi and Ti could be an inner development of myself, improving who I am. But I must say I'm not the...|||I've read about the Fe and Fi functions, I'm a Fi. I also know well about the MBTI types, ...  \n",
       "4   'Her parents are kind of the go to college = good job people, and they want her to have a stable career. She on the other hand, wants to travel, perhaps teach English in foreign lands (especially in...|||I have a friend who is going through this crisis.   She is about to graduate high school, and has absolutely know idea what to do with her life. She doesn't have anything she's really passionate...|||I recently met a few waitresses at one restaurant in my town who served for a living. I know...  \n",
       "5   'that's so ironic, considering how your signature is cats are the better people.. cats are known to kill or play with their prey for fun. you think that's wrong because that's how you were...|||ooh, I'm a virgo rising INFJ! virgo is also one of my fav zodiac signs.  INFJ's is that kind and honest childhood friend who even after years of not talking would be happy to check up on you and...|||I'm consumed by machiavellianism in dark periods of my life. I sometimes just get fed up by all the fa...  \n",
       "6   'Well said , Codger.|||You will like it. :proud:|||Never mind. Apologies for the intrusion.|||True.  Hey Cetanu. Been a while. How ya doin ?|||Hey ChancyRose, how are ya ? Add me to that list too. The punching bag thing didn't really work...|||I've got mine on; and the world is still retarded....among other things.|||Good luck.|||u200b Good morning people..|||Anyway... Nothing to do but go to bed and deal with whatever bullshit my subconscious has in store for me. At least it would be a chan...  \n",
       "7   'Just curious. I realise this is a bit of a stupid question, and bound to generalisations, but would there be anything the way NFs look, dress etc which is distinguishable from others?|||I can relate to this so much it's ridiculous|||Nothing goes unnoticed.|||I 'deal' with loneliness by:  - Rationalising and shooing it away (only works less than half of the time) - Focusing on my main current goal (successfully used loneliness as an excuse to do well...|||Aerospace Engineering (check) Civil ...  \n",
       "8   Boring means men who are usually quite and self absorbed when I'm with them ,I like men who know how to start a meaningful conversation and have a good sense of humor to make me laugh and flirt with...|||Well most important thing according to me would be ,yes definitely he shouldn't be a boring person ,also I prefer men who are good looking but are concerned about their health more than their looks,...|||That's some good and sensible advice you gave here for people who want to get a tattoo f...  \n",
       "9   'I can seem like an INTJ or like an INFJ at times.    Can't be any of the SJ types.|||Definitely not. Social skills can be practiced and enhanced. I find socialization and public speaking easy and simple.|||Shyness and insecurity are not related to being extroverted/introverted.  Perhaps you were always an extrovert but were restraining yourself form getting the socialization you craved, because of...|||An ESTJ figurehead  An INTP actually cleverly planning everything  An ENTJ to boss around...  \n",
       "10  'I don't really tend to get nostalgic, I am very fixed in the present and seldom think about the past nor the future and when do, I more often think about the future than the past. One thing that hits...|||https://i.giphy.com/media/3oEduKOYEB7s41EQP6/giphy.gif|||702922|||https://68.media.tumblr.com/90e3513146ad0198ea78d2942913ef3e/tumblr_ohn0zagVQ41udaa61o1_500.gif|||I am reviving this thread :tongue:  So I got a list with what I now consider to be harmless awkward moments I've been through ...  \n",
       "11  'Lady, the person decided themselves to post here. What you are terming dirty laundry. They did that, not me.  They posted a shitton of lies, for no reason. Just out of nowhere, suddenly, without...|||What was drawn out of proportion, and where was aggression introduced.  Like was said pages ago... if you don't want the answer to your question, don't ask. If you don't want to provide proof with...|||When my only purpose in being in this thread was to correct someone defaming me with lies... ...  \n",
       "12  'In a sense, yes. There is so much egotism around (esp. online) that just now I feel I'm losing interest in being active on this forum.|||https://www.youtube.com/watch?v=Mc44P-nT_-M  Mais perto do que pensas - Closer than you think  If there is a Portuguese speaking person here, they could translate the whole lyrics. I would...|||Hey ENTJs,  I know this is an old thread I'm excavating, since I didn't want to make a new one. It has something to do with not wanting too much attention. I have f...  \n",
       "13  'Now you got me excited about bamboos! I just learned that they grow in my zone. I needed a new/fun/exciting thing to work on, and it looks like this might be it. :)|||SO EXCITING!!! I love growing the huge sunflowers. I've never grown bamboo before, but now you've inspired me to study about it. :) I'll probably look it up soon.  We should start an EFNP Gardening...|||Confession: I was the same way before I got fish, but I tossed my fish out last Summer. :(  I was SO excited to get my first ...  \n",
       "14  'Judging by your selection of films, you would love it. Probably the best period/costume piece I've ever seen.|||What are your top 10 favorite movies? I don't really like TV, movies are way more appealing to me. I also want to see what other ISTP's like since I've never seen an ISTP forum for this (believe it...|||Old school is always cool, I don't mind doing things that are out-dated.  I don't even text a lot. I usually send one or two texts a day, and that's just during school. I don't tal...  \n",
       "15  'I've never come across an ENTP IRL, so I could say the same of ENTPs.  ENTPs in the Bay Area: holler|||https://youtu.be/n5LyTqCfj6E  Which of the four are you?  Do you see any correlations between your habit type from Gretchen's ideas and your Type Six characteristics?|||Her mentioning an ex is a red flag. Was it a Freudian Slip, or was it a conversation topic? I can only guess she has emotional baggage from not being over her ex.  If I were in your position, I...|||I'm trying to imagine wh...  \n",
       "16  'edIT is the good shit|||RHNB actually came up in conversation the other day, and somebody actually asked Why nickel instead of some other metal?  I didn't have a good answer.|||Sounds like you just found a typical INTP and he's the one who struck gold|||Yeah but what if you're not wearing pants??????|||Whenever you have the urge to see him again, then just give him a call/text/carrier pigeon/singing telegram asking if he's free to hang out on a given date and time window. If he's busy then ...  \n",
       "17  'I find ISTJ's are more organised and remember names and dates better than INTJ's. INTJ's are much better at solving problems and arguing constructively.|||Can someone please give me a practical example? I don't understand this function.|||Imagine you are looking at a bottle deodorant in a store and analysing, why the colour, why on this rack in the store, why the smell, why the ingredients, how was it made, who brought it, how many...|||Sure you're speaking about INTP's. I and the other INT...  \n",
       "18  'Yes, I have gone completely cold hearted towards people that earned that from me|||I'm a heavy introvert, yet everyone at work loves me. I talk to poeple all the time and I will often times engage in conversation with those I work with.  However I cannot wait to get home and be...|||Filled it out =) Good luck on your project!!!|||I would think INFJ would be the most thinking feeler, in all truth infp is the most NF of the NFs haha  I had this after thought.  INFJs are the NTs of NFs INFPs a...  \n",
       "19  http://media.tumblr.com/tumblr_m7aqyr03kG1qcs7kp.gif|||Hello everyone.  As an avid D&D player, I felt a need to share this dice shaming picture.  I would create my own if I had not abandoned my traitorous, speckled d20 so long ago.|||https://i.chzbgr.com/maxW500/8247933440/h2761EF8A/|||Life is quite lovely right now. <3|||My internet connection is being piss-poor, but other than that, things are going fairly well.  How are you guys?|||Hello. c:|||http://24.media.tumblr.com/tumblr_m6jxmaJ3cA1...  "
      ]
     },
     "execution_count": 105,
     "metadata": {},
     "output_type": "execute_result"
    }
   ],
   "source": [
    "df_train.head(20)"
   ]
  },
  {
   "cell_type": "markdown",
   "metadata": {
    "id": "UqdSUtbdorxd"
   },
   "source": [
    "- check dataset balancing"
   ]
  },
  {
   "cell_type": "code",
   "execution_count": 106,
   "metadata": {
    "id": "JBHrSvXhorxd"
   },
   "outputs": [
    {
     "data": {
      "text/plain": [
       "<Axes: xlabel='type'>"
      ]
     },
     "execution_count": 106,
     "metadata": {},
     "output_type": "execute_result"
    },
    {
     "data": {
      "image/png": "[encoded data removed]",
      "text/plain": [
       "<Figure size 640x480 with 1 Axes>"
      ]
     },
     "metadata": {},
     "output_type": "display_data"
    }
   ],
   "source": [
    "df_train[\"type\"].value_counts().plot(kind=\"bar\")"
   ]
  },
  {
   "cell_type": "markdown",
   "metadata": {
    "id": "x3wl_crkorxd"
   },
   "source": [
    "- Cleaning and Preprocessing are:\n",
    "    - 1\n",
    "    - 2\n",
    "    - 3\n",
    "    - ... etc."
   ]
  },
  {
   "cell_type": "markdown",
   "metadata": {
    "id": "XyJkqK9gorxe"
   },
   "source": [
    "### Cleaning and Preprocessing"
   ]
  },
  {
   "cell_type": "code",
   "execution_count": 107,
   "metadata": {},
   "outputs": [],
   "source": [
    "from sklearn.base import BaseEstimator, TransformerMixin\n",
    "from nltk.stem import WordNetLemmatizer,PorterStemmer\n",
    "from nltk.tokenize import word_tokenize\n",
    "\n",
    "class CustomTransformer(BaseEstimator, TransformerMixin):\n",
    "    def __init__(self):\n",
    "        pass\n",
    "        \n",
    "        # Add any initialization code here\n",
    "    \n",
    "    def fit(self, X, y=None):\n",
    "        # Add code for fitting the transformer here\n",
    "        return X\n",
    "    def clean_text(self,text):\n",
    "        #return text\n",
    "        # Remove emojis\n",
    "        \n",
    "        text_without_links = re.sub(r\"https?://\\S+\", \"\", text) # remove urls \n",
    "        text = re.sub(r'[\\U00010000-\\U0010ffff]', '', text) # remove emojji\n",
    "        clean_string = re.sub(r'[^a-zA-Z\\s]', '', text) #remove non word characters \n",
    "        return clean_string\n",
    "        \n",
    "    \n",
    "    def transform(self, X):\n",
    "        # Add code for transforming the data here\n",
    "        transformed_X = X.copy()  # Example: Just copying the data\n",
    "        \n",
    "        # Example transformation\n",
    "        transformed_X['posts'] = transformed_X['posts'].str.lower().str.strip()\n",
    "        transformed_X['posts'] = transformed_X['posts'].apply(self.clean_text)\n",
    "        \n",
    "        # Do all the needed transformations and data preprocessing here\n",
    "        #print(\"values\",transformed_X[\"tweet\"].values)\n",
    "        return transformed_X[\"posts\"].values\n",
    "    \n",
    "    def fit_transform(self, X, y=None):\n",
    "        # This function combines fit and transform\n",
    "        self.fit(X, y)\n",
    "        return self.transform(X)"
   ]
  },
  {
   "cell_type": "code",
   "execution_count": 108,
   "metadata": {},
   "outputs": [],
   "source": [
    "df_trained_preprocessed=CustomTransformer().transform(df_train)\n",
    "df_test_preprocessed=CustomTransformer().transform(df_test)"
   ]
  },
  {
   "cell_type": "code",
   "execution_count": 109,
   "metadata": {},
   "outputs": [
    {
     "data": {
      "text/plain": [
       "array(['this when i lie its to avoid an unreasonable response for something i did that was completely justifiable to me but if i was to try to justify to someone else theyd be too hung up on what i did iyour iq sd i typically have very difficult times maintaining friends ive come to realize ive had people i talk to for years and i still dont want to talk to them i did but then i just got bored of theman intj friend of mine told me she really hates eating because its so repetitive as an intp i dont really feel bothered i dont really register eating i just do it while im thinking aboutsimilar minds advanced testintp  sxso i have a lot of friends but i only have one i speak about how i actually feel with and only  other that i talk about what i am actually thinking about  with regards togetting close to someone and end up wanting to be infinitely close to them and end up merging every damn timeinteresting topic i know two enfps  is strange as an intp i view some of the stuff she does as coming onto me   sort of she gets really close and is very open to me just what enfps doas far as im aware this is normal in all people its not so much your pessimistic self but just that humans are social creatures and you will feel better after socializing for that reason beingvajrayaksa  how dare you use lelouch as an intp he is an intj i sayi normally think about doing this stuff but dont actually do ityoull probably find that commenting on their nihilistic thoughts logically would make them more open dismissing ideas will merely make them agree with that idea more as theyll feel a need todont worry calling me thinker is the sameintj  winter  coldest entj  summer  actually doing things entp  spring  bringing out the fun in people intp  autumn  no one ever notices this seasonive known a couple entps one entj and an intj and it kind of went entpentjentpintj i love being able to constantly talk with entps but also they need to know when to stop talking if an entpif you mean actually ving yourself i also have done this maybe im wrong but i find it pretty easy to think about the most logical move the player i am playing should make with the informationgender female age  intelligence gifted idea adoption earlyadopter mbti personality profile esfp closest alternative we found esfj  i think i killed it when it told me to writeim fine with them im more on shortage of people id ever want to do them with but thats on the grounds that any socialising that could be done could just as well be done over skype without thei used to use pencils then i was told that my teachers wanted me to use pens only  so i used pens only i havent used a pencil  excluding my games of naughts and crosses earlier  in a coupleid love to own either a calm house out somewhere distant with a porch and a log cabin aesthetic  fuck it i want a log cabin or id actually really like the idea of being in one of those smokeyyeah i enjoy listening to lyrics but it doesnt make much of a difference if theyre present or not if they are there theyre just another part of the instrumental i dont necessarily listen tomore often then not someone is only going to be fully entering my world if they invite me into theirs first and its similar or were friends on the internet  because then there are fewwhat did you get me today  my head  shit shit shit what did i miss is it your birthday was i supposed to get you something are we that good friends that i should be buying you stuff ii frequently say it as an off hand thing someone does something really awesome and i say fuck yeah i love you man or something like that if i was to say it in a genuine way then itd feel reallyso something strange has been happening recently my interest was drawn to naughts and crosses and how i could make it more enjoyable to play i started by increasing the grid size and triedyou could tell them your thoughts you could not tell them your thoughts and continue to brew over it i think that theres no reason to be ashamed or annoyed about anything and if you dontloudly whilst he drew hisand the baby platypi quiveredparticularly in the higher regionsstarting with a lingering feelingwhats the point of stopping why does it matter what theyre called guilty pleasures are pleasures for a reason does it matter that muchtheir own god dam storypost multiple times to doits impressive how people wouldmaximum of five words per line feel free to say other stuff in the most but make sure its clear which is the five words     once upon a time insomeone who appreciates cc fuck yeahyeezus cant we come to a reasonable conclusion without you picking a fight its not being open mindedmore often then not i judge them purely by how they judge me i have a dark sense of humor that im not exactly secretive about i get along with most people on the grounds that im just friendly toi chose my avatar as its an awesome art work of kaneki from tokyo ghoul and by god i loved the manga love tragedies name is a slightly altered version of my name george  georgius liked the haloviolence in this situation would probably be a faster way to get things done for both parties involved and especially on the receiving end trying to talk sense into someone who just said somethingbut surely the point that everyone would be worse off initially isnt relevant rebuilding a system would obviously have its issues here and there  im not crying revolution and im not beingwed call it diagon alleyim with you i make a pretty big point of not being a person for people to expect feelings from i want to be that person but i just feel wrong someones crying their eyes out and here i am lyinggood call but thats just how i read it what about a four dimensional planewhy airplane why not aeroplanehit them for having the expectation that you should live up to their expectations which is infuriating in and of itself probablyits just because hitting a women is politically incorrect and some women will use that to their advantagewhat hes saying is that they should assume that if they say something worthy of being hit for that they should be grateful when theyre not hit for it not expect not to be hit just on the basisis it particularly common amongst intps and other types to just acknowledge another sides point of view even though socially you shouldnt what i mean by this is i cant have conversation with',\n",
       "       'i said zero flexibility and little time for dating going around sifting through dates to find one that clicks isnt going to be as viable  that has nothing to do with maintaining a relationship ihow youve come to the conclusion i have nothing to offer  merely because i am busy is beyond me       no not really again more made up stuffokay this isnt cool  youre specifically looking to get into a relationship because youre about to enter a life phase where you will not have any resources to give to a relationship   that isi do take it slow thats why im still single but im not interested in making friends i  have friends enough for my liking im interested in going on dates with the intent of entering aabsolutely not for me i find the idea repugnant actuallypeople could have been polite maybe average is a more conservative bet and im not claiming im a social butterfly im just a normal guy who is introverted but not a social doofus  i dontim probably giving up the online thing here when my next subscription runs out after that i really dont know where to look bars are a definite no i dont understand where people meet theirive tried both ways actually the last few women i have gone out with have gotten really weird andor ignored my backhanded compliments i dont know what to do anymore seems i get screwed eitherim actually pretty healthy     sorry you feel that way not sure which ones you met but assholes exist everywhere the number isnt anywhere near  thoughif anything i err on the side of being indifferent definitely not overeageryeah my close friends dont live near me anymore  the issue is that i have been meeting people a good amount and nothing works i want to know why it is that deformed infirm mentally unstablemy friends are in worse positions than i am asking them isnt going to help   as far as feedback not really because that seems like an extraordinarily awkward thing to ask someone you barelyso im a  year old male who has been striking out time and time again when it comes to relationships ive been in one relationship my entire life that lasted like  years and ended when i wasi dont think this sort of dating method is very reasonable and at best it is counterproductive being friends first just throws a wrench in what is normally a smooth dating process when you fearnever was a kissi appreciate the feedback i think im just going to tell her we shouldnt hang out unless she can dedicate a decent amount of time to it what is happening right now is dragging things out andi dont know after thinking more im on the verge of giving up it has nothing to do with seeing her infrequently or not making it official or what have you its that she keeps thingsi dont know im not a model or anything but im decent looking shes drop dead gorgeous and nice and smart guys are always after her it seems but im also smarter and have better careeri like your answer but maybe im just being optimistic it is basically what ive been doing i cant shake the feeling that she wouldnt be giving me any of her time if she werent interested andhow am i supposed to know if an infj just wants to be friends things have been very weird with an infj ive been seeing ive been very upfront about my intentions and she essentially told me sheinteresting i find it unusual infjs are known for taking forever to open up and trust people yet all the responses so far have indicated kissing in  or fewer datesmy infj friend has been with an intj and i dont want to bust your confidence but even though she liked him at first she soon found out that he was putting her down and felt caged i can see thatenlighten us infjs also indicate your gender and if you initiatedwell there was more than that she also said she was basically trying to figure out if im trustworthy and decentthose two things seem at odds how can you be simultaneously not saying things that need to be said but also being proactively aggressivepretty much yeah women just do not enjoy my company on any level im in the same situation never had any female friends dated one person in my life and it lasted a little less than two years thei dont think that is going to help me dig myself out of the very clingy seeming hole i dug myself i basically asked her if she knew i was romantically interested and she responded of course loli should have just let things proceed at a natural pace pretty pissed at myself about zero chance she speaks to me againi read through most of that thread from what i can tell i never did anything egregious good chance she lost interest after my bluntness though loli broke that off shortly after my post i felt like a slime ball i only did it because people were telling me shes a lost cause and i should see other people btw i have a very well developedupdate on this told her i liked her and got no reassurance she liked me or even that she wasnt interested those who said she was ambivalent were right im pretty much calling it off at this pointyeah so i told her and didnt get an affirmation she liked me nor that she didnt she basically said she had known for a while i like her pretty much what i expected probably going to call itis the crystal ball reference supposed to mean your guess is as good as mine or what edit guess not pso ive gone on six or so dates with an infj over a  month period shes pretty busy and me too and recently i feel like progress has been a little glacial for a bit i thought she was warming upshe hates texting  and yeah she told me how picky she was about people recently and that normally she wouldnt give anyone the time of dayyou would literally have to have an autism spectrum disorder i would know  not to mention you dont tell someone who is just friends how much you like them that would be more than bizarreits kind of hard to get to the point of officially dating when you have no idea what is going on in her head for all i know an attempt to kiss her would result in abject horror and assaultspoke to her last night she essentially said she likes me a lot and would normally never make any time for people unless she was obligated to but she also indirectly used the word friend but itso i met an infj female a while back and weve been out like five or so times on a date they go well we get along everything seems nice i find her very attractive and we have quite a bit in  i dont know i kind of have a rule that i dont compliment a female on her appearance until she trusts me i did compliment her personality a few times  she is extremely cautious from what iwell now i have a new question went on a second date a few days ago and it went well and she said she wanted to meet up again the problem is there hasnt been an ounce of flirting or touchingshe started initiating with me and asked if im free soon     if there is anything to be learned it is dont play the analysis game you will loseexpectations ofi dont know i cant really fault a strong introvert for being wary about someone she doesnt really know number  is cruel but it is how modern dating works    pretty sure this isnt thei dont know i cant really fault a strong introvert for being wary about someone she doesnt really know number  is cruel but it is how modern dating works    pretty sure this isnt thethanks option  seems most likely it seems whenever i finally get her to open up there is like a cascade of good conversation that finally ensues but it is like pulling teeth initially then iim socially retarded and would know that if a random stranger asked for my contact info then asked me out for drinks or lunch then the person probably isnt interested in just being friendsso i shouldnt be deterred by the fact she doesnt really ever reach out to me i dont enjoy appearing like someone who cant take a hint or who puts someone else in an awkward situation i worryno this seems to fit her pretty wellthanks for the advice everyone i appreciate your taking the time to respond',\n",
       "       'this has to be written with bias or something im not sure how you could even say that truthfully for some reason you put subjectivity for both god and man it says nothing    that makes no how  the main priority of the church is written throughout its texts for the past nearly  years and reverberated throughout the churchs dialogues both before and after the incident aboutthats an annoying phrasing as its just obtuse and confusing to newcomers i dont blame you for your response there    why must the revealed knowledge not speak truth but contain a biasthere are no priestly desk jobs the closest thing you have to being a priest that gets you away from people is being a monk and that in itself is very different  i am telling you they did it outno you really wont you cant just go to an intp and assume their intelligence level that would end in failure dont be afraid to ask big questions when musing with the intp and just try toheresy is like the core reason most all christian infighting occurs everything else is minor disputes about theological opinionsthats exceedingly subjective see what theyre interested in strike up a conversation about it definitely ask them their thoughtsto dismiss my concept of it is to dismiss all history on the topic dismiss what the apostles taught and literally all sects of christianity but fine whateverdo cool shit discuss ideas have patience dont try to judge personally too quickly or control them also make the first move to show youre interested in talking with themi used to feel about the same until i read the book selfmade man where a lesbian butch woman dressed like a man and tried to live as one she noticed herself being considered a feminine man quiteim not sure what the hell is going on in this thread but i would like to say i know no entjs personally i dont think itd be neat thoughall churches are forms of political institutions catholic and orthodox ones have the benefit of being centralized all sects have declared doctrine in one way or another  youre speaking againstand here is the most boring post in the whole threadwhat part if its the idea of a teaching authority you have a problem with all church until the th century if its the idea of a group being guided by the holy spirit in their decisions onfor catholics the church has a dual meaning the whole of the believers the body of christ and the political institution for catholicism their teachings of christ are said to be protected bypriests were relocated to other parishes so they may quiet down the criticism of the time and handle thing themselves again poor decision but that was their decision  the churchs first prioritywell sure then yes the church did protect child offenders the churchs reasoning was the image of the church itself and the their leaderships own ignorance of the size of the problem the churchedit based double postno it really isnt the bible itself is the canon collection of texts the bible was established once the theological and historical work was done to establish the canon and it was not modifiedyes nevermind it because the two claims do not contradict each other at all i could work through how there is no contradiction if youre struggling    i wouldnt say all no thats a theres no way to tell but many of them depend on logic andor history that contradicts or ruins their claims granted there are a few cases of were yet to be able to know but many of it canthe problem of induction is a grand way of humbling yourself about scientific findings when youre younger it brings into question if what we know is what we could call truerubix cubespantheism makes no sense id advise otherwise atheism and abrahamic theism are the only two rational choicesyou motherfuckerwhat is the meaning of everything the universe exists we are to learn to love in itdisappointed  year old reporting in  good luck opthis is exceedingly naive the early church before scripture applied their teaching to better society after scripture it was held in high esteem as a basis to properly better society most workfrom the catholic catechism list of official teaching here is how we are to read the bible  iii the holy spirit interpreter of scripture    in sacred scripture god speaks to man in ai never liked people pointing to the scandinavian model for the success of their economic system and not their incredible oil and natural resource supply compared to their small populationswhile shit just got stupid for a moment lets try to get back on trackyoure pretty smart you know that  look at this fucker she thinks im smart pfftexceedingly poorive just been told im bright but im sure most everyone else says the same to the kidsand what of youthe most efficient way to remove selfdoubt is to stop doubting yourself so much faith and trust niggayou suspect wrongly i like the chatter and im being friendly with you i seriously do hope you have a good day tooindeed you do feel free to askarguechator bullshit with me if you want have a good one manid say thats a stretch to say catholics believe the bible was inspired by god but written by men orthodox do too as they assembled the biblical canon id have to say they have the greatest sayedit welpi see the arguments for inconsistencies sometimes they arent actually inconsistencies sometimes they are i find the simplest example of a true one being the rabbit that is apparently chewingsorry to take so long to get back to you my internet has been screwing up horribly  as for the answer there was a considerable amount of things that got me off the atheist train but if i were tothe believing portion was a long and arduous process for me i researched culture as a hobby and eventually i rolled around to religion it was an interesting topic for me and i eventually began toto your first statement just what where did that even come from of course they can know love though with god they can know it fully id argue  as for hell its taken a variety ofim very mixed on him his criticism of christianity and envy now that ive seen the video is while popular piss poor and max scheler did a wonderful job making an argument otherwise on hispeople believing in something as incontrovertibly true is what gets people into a murderous rage why just the incontrovertibly true why not the empirically true why not just majority opinion tosure thing sounds sorta similar to the epicurean paradox  sufferingfree will exists to strengthen the good if you create a people so they may know love they cannot sincerely know love if theyyo christian intp here  anything you wantits not we can make healthy children its we only let the healthy babies live which is the issue its a moral issue about the innate value of life',\n",
       "       ...,\n",
       "       'i only know one other my son is our type really that rare i can at times notice the types in people i work with come across in a social setting etc but i have never come across someone where ii have used dating sites in the past as i feel highly uncomfortable going out and about trying to get to know others meeting people online is the new norm however sadly people are more bold behindhow does this highly introverted person become more outgoing how come no one is asking for advicethe power of intention plays a strong role in how we approach relationships whether they are romantic or platonic falling for someone can happen unexpectedly and very easily when we begin tolos angeles califthe flat is yours not his respect should be going both ways which he isnt giving always talk in person text seems to lead to miscommunication its funny how infps can be so laid back but wheninfps value complete honesty be direct and tell her what you wrote in this post we do not like to second guess what a person is thinking or feeling we are great at reading between the lines thisi am an older infp with a teenage son the same type he is very similar to you in how you described yourself my advice is to accept yourself and read up on the other types as well when you getpatn irish  foresakenme give us a hint girlwhat a interesting game  forsakenme chinese happythoughts american locofoco canadian or american  worried function aussie  calm voices an infp traiti was married to an estj for over  years i think it  lasted because i always went with the flow and rarely did what i wanted to do as i got older there was a need from my ex for me to always behow do you coexist with this person if you live with them how do you suggest to this person they may suffer from this illness they have multiple signs in their behavior but have not beeni agree estxbut more likely a j js have that confrontational nature about them ps just want to go with the flow and disrupt anything unless you aggrevate themhaha thats a good take on iti am becoming convinced more she is not an entj menopause has nothing to do with ithahado not assume she has manners due to her age still not convinced she is entj late s no kids marriedhi there   i have a sister who says she is an entj only i am not convinced due to the fact that she notices behavior what other people are discussing when things are out of place etc shetelling you she is emotional could mean she feels alot within it does not nec mean that she is about showing emotion face to face with someone she could also feel more comfortable texting youi am an older infp things dont really change much in how we thinkfeel but they do change in how we communicate and socialize with others as we age my guess is she started wondering about all thei find the sj types have that preppy look going on infps have a laid back look with style that isnt forced look in places where you would not normally go maybe a bookstore at the selfhelp or fantasy section or the corner where they are alone from the rest reading hiking and parks are good places toowell said we are the type that can be most understanding accepting and intrigued by their naturesad it cannot be reciprocated for some i am sure there are ultrahealthy intps out therejust ended a friendship relationship aquaintanceship with an intp i am sure you infps have enountered the puzzzling way a relationship unfolds with this type and you are taken on a rollercoasteri change my mind i now want a loristhats the best video ever it made my morning i want a welsh pembroke corgi they are so cute and have these stumpy legs it looks like they have a wiggle to their walk i have asked alot of people i work with or friends to take the keirsey test what i have noticed is the sjs will be hesitant and question why i want to know their type the rest of the typesi would say that if i truly meant it otherwise there is no point in bringing it uptheatres that show indie films but then you couldnt really meet because we would be watching the movie i like the super secret card idea i dated a couple of esfps they can be very warm and caring in a physical way they are spontaneous which i love because it draws me out of my shell and i become this free spirit they know how toi have been trying to understand the cognitive functionsthis is excellent bravo i go through each of the functions in my mind and ask myself which reflects the person more x or ythis is very inaccurate but i have been right on some its usually the nfs and nts that i cannotyou can add me as well i dont have many friends but the ones i do have turned out to be very cool it doesnt mean you have to stay in contact as i always say practice a function extraversion inhttpwwwyoutubecomwatchvxtfuxfmthere is no relationship established yet practice directness in a kind way this is difficult for infps but it will save you time and energy that can be used for other things thank you for askingi was playing in the streets when i was a young girl and i never thought about whether i had to be girly or not now that i am a grown woman i am not into the makeup clothes etcbut i do feel girli think infps have style without really tryingjust sayin i was married to an estj who would leave me alone in large groups i got used to it and the times i did become more extraverted were the times where the conversations werent superficial i open uphi fellow infps i want to know what your preferred style of dress isthis goes for all the guys as well what do you love to wear when you dont have to dress work appropriate for myself i am ai agree a person with a strong inner core that can be alone for a while after a breakup comes out ahead in the end my guess is he does not want to think and feel about what happened sorry youi am an infp parent and i can say it has brought me closer to my sons as they get older since learning about mbtikeirsey i have introduced this knowledge to them one is an infp the other an estpthe extraverts i have dated bring me out of my shell yet the introverts make me feel more i try to be unbiased but my gut is telling me another introvert is going to get me yet both care deeplyi have a close intp friend and one that i want to get close to relationshipwise what i have noticed is you are as emotional as us yet you do not show it not until you have a true comfort level andwhen you say a silent im sorry to a spider you are about to killyou just gave me a thought for another threadare nts and nfs competitive hahaill post later  thanks just wondering if any of you nfs or nts are into watching sports or actually play i have little interest but do notice the sps  sjs love it   if sowhat sport interests youi got entp how many of us actually have our ideal mate    what happened to the sjs and spsdont nobody want themput yourself out there with others from time to time growing older is going to change your pov we internalize and dream up this world that no one can see but us what i have heard from interactingi would probably continue to wonder why  i feel socially awkward at times love being alone so much i want to understand others  wish i knew i was an infp when i was a teen it would have savedeveryone had such nice eyes i have a thing for the eyes especially men with almond shaped onesi love it',\n",
       "       'i dont think sense of vision is necessarily the best approach because you inevitably get tied up in semiology and linguistics and stuff which may not have that much to do with personality wehm i think in terms of performing specifically it doesnt really matter what mood im in  the most important thing is that im feeling something and can discharge it  when im in the act of artistic  yeahhh but i dont like this word and havent ever been comfortable describing myself with it p i like making stuff   rebellious  as others have said quietly   animalsome things that have worked for me cliche maybe but dont underestimate their effectiveness   picking up a new skillhobby   going camping   volunteering at an animal shelter   i actually think cleaning can be pretty thrilling if messiness gets boring   allow me to say something uselessly general boredom is relative and comes in degrees for example sleeping inthe majority of my close friends arehave been infps the difference i notice most is that i dont have a constant air of melancholy about me though for other types this can be hard to detect onbreakups for me have typically been very long and slow from my pov and kind of jolting from my expartners breaking up seems to be less of a problem than moving on maybe because im reluctant toi mean i think you can end up talking yourself in loops if youre so individualistic that you wont even acknowledge individualistic as a labelcategory of person  but if theres one thinghey hi  im boxter  i havent been on perc for a while and when i was before i was convinced i was an entp which it so happens is actually a super annoying to me alterego which caninfp quasiwhirlwind relationship that both began and ended far too abruptly struggled with closure for a looonngggg tiiimmmeeeee sometimes i think i still am  enfp oh god why did i dateive always had the most emotionally powerful relationships with enfjs and two in particular come to mind one is with my father and the other is with an ex who i lost my virginity to and still  httpimagesfanpopcomimagephotoscutekittenskittensjpg  no but actually whenever i go through something bad i try to make myself emotional and just cryim also not opposed to people smoking pot theres no point expending tons of resources getting people to stop and it can be good for the economy  i myself smoke only very occasionally andi agree with much of feminism but like a lot of people i feel like i have to qualify my beliefs in order to avoid being associated with the negative connotation of the word  one of the main what differences do you notice  he isfj is better dressed more emotionally serious much more organized creates and maintains an aesthetically pleasant harmonious living space and onlyi second the team of rivals recommendation  just be warned its long and takes a while to really get going  also musicophilia by oliver sacks is an intellectual candylandin all honesty i dont mind being friendzoned most of the time im not sincerely sexually interested in the other party because i have such astronomically high standards for whomever im a finite but ridiculously large sum of money   a finite but ridiculously long life   infinite croutons i love croutonsi was flamboyantly bisexual and selfdeprecating in grade school p and i skipped a grade so there was no way i ever had a shot at being alpha  i just chased girls and randomly kissed boys andheh this makes it sound like you already have a heart as such which runs contrary to what the title of this thread suggested a bit  welldeveloped fi can give your life renewed energy if youa handful of suggestions skill sets that are highly useful often affordable and can be built up as hobbies   coding  playing a musical instrument  proficiency at a sport  d animationim an entp with an enfp mom and an enfj dad cool  my mom scares the crap out of me sometimes oo a couple years ago i matched the description of your daughter exactly  i hated being heldyou may possibly be entp though mbti is largely applicable to healthy individuals aka people without factors such as bipolar disorder when i was going through a bout of severe depression a fewa profoundly selfabsorbed entj with a phd in physics from cambridge  i dont know why it just seems really scaryi dont like trying to force quiet people out of their shells i always believed i was highly introverted until really very recently and when people tried too hard to get me to open up all i felti can smell enfp from five miles away you reek of the stuff pyay venting what is there to whine about today oh i really hate it when im hiking in the middle of the woods and have to poop that really sucks oocrazyeddie im not totally sure what most of the advice has been so far because im too lazy to read all seven freaking pages on this thread which is a sign that youre waaay overthinking this youthere are a few different brands of criticism   im jealous of you criticism  i think youre too full of yourself criticism  im just generally in a bad mood criticism  ielaur make sure your daughter wants to go to an ivy if shes independently motivated good things can happen plus she would be more likely to be happy once she got there  also keep in mind thatheres basically what i think about governments involvement in homosexual marriage obviously the rhodes scholar can say it better than me   httpwwwyoutubecomwatchvyztlvyumy dad is ten years older than my mom and theyve been happily married for over two decades what can i say my dad took a little longer to get his shit together and thats fine p id hate to nevera few years back i went to this totally insane party i can barely remember now everybody was wearing swimsuits and drinking way too much  unfortunately that was my yearold birthday party andooh ill be a piece of lunch meat thats secretly a russian sleeper you wont know what hit youinfjigsaw thank you for your empathy  but to be honest the guy is still my brother and i still love him even though i havent seen him in seven years he has fetal alcohol spectrum from his birthlucas thats an extremely good point to bring up   one of my lesbian friends was molested by her grandfather and no longer feels sexually drawn to men because when she is physically approachedaffezwilling i agree with most of what youre saying however the line between societal and religious can sometimes be so blurry that theres little point in making a distinction  particularlysiggghhhh  desouza w w w sxsp splashedcolors w w w boxter w w w saltare w w w marzipan w w w sxsosp oo w w w agent blackouti strive for equality i dont want to feel like a parent or a child i find myself taking the lead in social situations though unless shes just as conversationally adept as i amif its something im knowledgeable about i can go pretty indepth with criticism and compliments as limedegree so skillfully conveyed or out of boredom i can just say its fine and move on withi like having influence and decisionmaking power but also strongly value individuality i like being able to guide a process but not exert too much control i could definitely see myself in adevin ive taken several online classes if you have decent time management skills its super convenient you should be fine  i prefer attending classes i dont really take notes p if anythingagent blackout ww w w sxsosp psyphon w w ww sxsosp jabberbroccoli w w w sxsosp dark romantic w w ww sxsosp meritocrat w w wi was waitlisted by columbia which was my first choice but got into a top liberal arts school with a full ride not really holding my breath about getting into columbia off the list xd  itsi took collegelevel physics in high school and really enjoyed it at least after the trig became more intuitive sucky trig curriculum meh what wasnt as fun sometimes was the people but isupposedly entp delight in wordplay so i was wondering what are some plays on words you guys have randomly come up with if youre anything like me they just come to you like epiphanies  amy younger brother is entj and was molested by our older stepbrother when he was seven my dad is enfj and was abused not necessarily sexually i dont know details by numerous stepfathers in hisjawz they administered an honesttogod iq test for business school admission interesting never heard of people doing that  starkindler i also tend to look down on iq tests but i do thinkconcrete random which tells me nothing except that im an experimenter oh and im not abstract sequential so i must not love the world of theory and abstract thought   interesting quizim sorry i said confuzzles i really dont know how many threads you get from entp wondering if theyre estp i know the entp forum gets plenty of estp wondering if theyre entp forgive me if all',\n",
       "       'my intp relationship full of arguments and misunderstandings has pretty much come to an end   you know itd be great if you could avoid going through the motions conflict anger closureahh i didnt know joe rogan interviewed him im going to check that outmjk is an interesting guy  easily one of my favorite tunes of all timeanyone else wanna dance in their livingroom d  ub httpswwwyoutubecomwatchvmpizefqrgmusic food sex emotions et al basically having a physical body but having experiences that transcend ittrue story ive been seeing an intp for about a year now its definitely very unique were similar in disposition and intellectual interests but our outlook on socialpolitical matters are verysorry for shitting up this thread you lovely guys and gals    httpiimgurcomahhrmjpgand im the arrogant one projecting muchplease go ahead and share your successful stalkingin the colliquial sense of the word stories it doesnt take an all knowing all understanding take on fi to get that if you arent trolling thenim not the only one giving you the same answer that should tell you something     honestly it sounds like you are trolling usregardless of whether or not thats the case you should goim hardly the one being foolish here want to know another intj quality stubbornness after openly admitting the perception of your behavior being stalkerish im unsure why youd want to seriouslya new poster getting all uppity while denying his stalker tendencies and ignoring the generally sound advice he was given if orion actually was an enfp that would make his advice much more validnah i wouldnt even bother calling just show up outside her window at am im sure shell be all over dat countryboy swagdo enfps particularly enjoy electronic music it seems ne gravitates to whimsical lighthearted kinds as opposted to darker heavierdubstep dnb stuff oh and i love dance musicprog houseany resultshttpwwwyoutubecomwatchvzajrrcfghttpwwwyoutubecomwatchvpoqbgfqohttpwwwyoutubecomwatchvahcfxbulowhttpwwwyoutubecomwatchvyeddjszytmind control how does it work confusedtonguefixed coolcareful madam im not trying to spill perfectly good wine here proudwhat is your favorite activity to do in your free timehere are some things you can do   treat every women as an equal every person is a new discovery and deserves benefit of the doubt   find your inner confidence theres a balance betweenthat would be a lot of poker faces crazyword surround me with beautiful well dressed people alcohol and a good vibe and ill do work its more about feeling the groove then going to some top  club surrounded by people who make youi enjoy the infps fine as it helps me learn to be more empathetic and perceptive of others in turn i suspect you like the strength of our tewhich when paired with fi helps you sort throughyou give me hope this is exactly what i want but its so difficult to find individuals like this who arent trying to hide their flaws behind words i wish more people would be true to themselvesmy infj friend often asks me for my perspective on whatever socialrelationship issue he has at the time it seems to follow the structural query of person saysdoes x what does that mean as hesgreat beer commercial   httpwwwyoutubecomwatchvgfkdbzqtkhistory in the making dudes destined for legendary status   httpwwwyoutubecomwatchvwuburrdminitial reaction httpdeveloperyahoocommessengerguideimagessmuglargepng  tier  empathypatience  tier  dismissal  tier  piercing death starespontaneous human combustion  ifhttpwwwyoutubecomwatchvqvjvwqalso makes a tasty snack at  am   was that too forwardomg no wai r u srs crazy  coincidentally i was also thinking cupcakes represented enfps perfectly but was beaten to itits great when you and the other person are on the same wavelength however most of the time this isnt the case everyone always seems to want a relationship play stupidly transparent games orelectro tune   httpwwwyoutubecomwatchvppyeknna pic of me outside of my natural habitat  httpiimgurcomgdecjpg  galaxy nexus is an awesome phone but the camera is pretty terriblei believe the stereotype is a metaphor which relates to our thought process every move is strategic and carefully made with an intended outcome ruminating as long as possible before taking actionhttpwwwyoutubecomwatchvecxcoreoocfilthy filthy dubstep cool   httpwwwyoutubecomwatchvosnppfg  faklubrejle you like mostly neuro or regular dnb as well i love pretty much all electronic music with all thebacon uncured at least  strips cooked until chewy and slightly crispy break off some green leaf lettuce slice up a tomato toast the best italian bread available then slather heavy mayo on bothwithout context to extraverted function pairing  si is subjective in storing as memories ni is subjective in storing as symbolsabstract  one focuses on sense perception while the other takesyou seem so sure youre an intj yet you admittedly know nothing of cognitive function theory and have so far rationalized through stereotypes extraverted feeling looks at empirical evidence throughi have a very difficult time processing feelings because depending on intensity they tend to turn into complex thoughts which need to be rationalized eventually over time i can ascertain which arein a word understandinghttpwwwyoutubecomwatchvxeqgitvpgim always looking for tunes that take me to a place which could best be described as nirvanaor even bliss heres one of them   httpwwwyoutubecomwatchvnqvuhkapysthat gentleman in the back is looking fairly regal if i do say so myself proudmy hair stylist isi was really looking forward to seeing her again shes roughly  its so funny because i imagine my functions backwards and i know we find each other mutually attractive but'],\n",
       "      dtype=object)"
      ]
     },
     "execution_count": 109,
     "metadata": {},
     "output_type": "execute_result"
    }
   ],
   "source": [
    "# showing data after preprocessing \n",
    "df_trained_preprocessed"
   ]
  },
  {
   "cell_type": "code",
   "execution_count": 110,
   "metadata": {},
   "outputs": [],
   "source": [
    "X_train, X_test, y_train, y_test = df_trained_preprocessed,df_test_preprocessed,df_train[\"type\"].values,df_test[\"type\"].values"
   ]
  },
  {
   "cell_type": "code",
   "execution_count": 111,
   "metadata": {},
   "outputs": [],
   "source": [
    "#### choose max_sequence_len"
   ]
  },
  {
   "cell_type": "code",
   "execution_count": 112,
   "metadata": {},
   "outputs": [],
   "source": [
    "tokenizer = Tokenizer()\n",
    "tokenizer.fit_on_texts(X_train)\n",
    "train_sequences = tokenizer.texts_to_sequences(X_train)"
   ]
  },
  {
   "cell_type": "code",
   "execution_count": 113,
   "metadata": {},
   "outputs": [
    {
     "data": {
      "text/plain": [
       "6940"
      ]
     },
     "execution_count": 113,
     "metadata": {},
     "output_type": "execute_result"
    }
   ],
   "source": [
    "len(train_sequences)"
   ]
  },
  {
   "cell_type": "code",
   "execution_count": 114,
   "metadata": {},
   "outputs": [
    {
     "data": {
      "image/png": "[encoded data removed]",
      "text/plain": [
       "<Figure size 640x480 with 1 Axes>"
      ]
     },
     "metadata": {},
     "output_type": "display_data"
    }
   ],
   "source": [
    "plt.hist([len(s) for s in train_sequences], bins=50)\n",
    "plt.show()"
   ]
  },
  {
   "cell_type": "code",
   "execution_count": 115,
   "metadata": {},
   "outputs": [
    {
     "data": {
      "text/plain": [
       "(6940, 1750)"
      ]
     },
     "execution_count": 115,
     "metadata": {},
     "output_type": "execute_result"
    }
   ],
   "source": [
    "## padding train data \n",
    "x_train_padded = pad_sequences(train_sequences, maxlen=1750, padding='post')\n",
    "x_train_padded.shape"
   ]
  },
  {
   "cell_type": "code",
   "execution_count": 116,
   "metadata": {},
   "outputs": [
    {
     "data": {
      "text/plain": [
       "(1735, 1750)"
      ]
     },
     "execution_count": 116,
     "metadata": {},
     "output_type": "execute_result"
    }
   ],
   "source": [
    "### transform data \n",
    "new_sequences = tokenizer.texts_to_sequences(X_test)\n",
    "x_test_padded = pad_sequences(new_sequences, maxlen=1750, padding='post')\n",
    "x_test_padded.shape"
   ]
  },
  {
   "cell_type": "markdown",
   "metadata": {
    "id": "ba0r1ASHorxf"
   },
   "source": [
    "**You  are doing Great so far!**"
   ]
  },
  {
   "cell_type": "markdown",
   "metadata": {
    "id": "R9BhRQbYorxf"
   },
   "source": [
    "### Modelling"
   ]
  },
  {
   "cell_type": "code",
   "execution_count": 152,
   "metadata": {},
   "outputs": [
    {
     "data": {
      "text/plain": [
       "281060"
      ]
     },
     "execution_count": 152,
     "metadata": {},
     "output_type": "execute_result"
    }
   ],
   "source": [
    "VOCAB_SIZE = len(tokenizer.word_index)+1\n",
    "VOCAB_SIZE"
   ]
  },
  {
   "cell_type": "code",
   "execution_count": 153,
   "metadata": {},
   "outputs": [
    {
     "data": {
      "text/plain": [
       "array(['ENTP', 'ENFJ', 'ISTP', ..., 'INFJ', 'INFP', 'INTJ'], dtype=object)"
      ]
     },
     "execution_count": 153,
     "metadata": {},
     "output_type": "execute_result"
    }
   ],
   "source": [
    "y_test"
   ]
  },
  {
   "cell_type": "code",
   "execution_count": 154,
   "metadata": {},
   "outputs": [
    {
     "data": {
      "text/plain": [
       "(6940, 16)"
      ]
     },
     "execution_count": 154,
     "metadata": {},
     "output_type": "execute_result"
    }
   ],
   "source": [
    "### encode labels \n",
    "from sklearn.preprocessing import LabelEncoder\n",
    "label_encoder = LabelEncoder()\n",
    "y_encoded = label_encoder.fit_transform(y_train)\n",
    "y_train_encoded = tf.keras.utils.to_categorical(y_encoded)\n",
    "y_test_encoded =tf.keras.utils.to_categorical( label_encoder.transform(y_test))\n",
    "\n",
    "y_train_encoded.shape"
   ]
  },
  {
   "cell_type": "code",
   "execution_count": 155,
   "metadata": {},
   "outputs": [],
   "source": [
    "\n",
    "model = tf.keras.models.Sequential([    \n",
    "    tf.keras.layers.Embedding(VOCAB_SIZE, 128),\n",
    "    tf.keras.layers.SimpleRNN(128),\n",
    "    tf.keras.layers.Dense(128, activation='relu'),\n",
    "    tf.keras.layers.Dense(16, activation='softmax')\n",
    "])"
   ]
  },
  {
   "cell_type": "code",
   "execution_count": 156,
   "metadata": {},
   "outputs": [],
   "source": [
    "model.compile(loss=tf.keras.losses.CategoricalCrossentropy(),\n",
    "              optimizer=tf.keras.optimizers.Adam(),\n",
    "              metrics=['accuracy', tf.keras.metrics.Precision()])"
   ]
  },
  {
   "cell_type": "code",
   "execution_count": 157,
   "metadata": {},
   "outputs": [
    {
     "name": "stdout",
     "output_type": "stream",
     "text": [
      "(6940, 1750)\n",
      "(6940, 16)\n",
      "(1735, 1750)\n",
      "(1735, 16)\n"
     ]
    }
   ],
   "source": [
    "\n",
    "print(x_train_padded.shape)\n",
    "print(y_train_encoded.shape)\n",
    "\n",
    "print(x_test_padded.shape)\n",
    "print(y_test_encoded.shape)"
   ]
  },
  {
   "cell_type": "code",
   "execution_count": 158,
   "metadata": {},
   "outputs": [
    {
     "name": "stdout",
     "output_type": "stream",
     "text": [
      "Epoch 1/5\n",
      "\u001b[1m55/55\u001b[0m \u001b[32m━━━━━━━━━━━━━━━━━━━━\u001b[0m\u001b[37m\u001b[0m \u001b[1m0s\u001b[0m 3s/step - accuracy: 0.1604 - loss: 2.4365 - precision_6: 0.0000e+00"
     ]
    },
    {
     "name": "stderr",
     "output_type": "stream",
     "text": [
      "C:\\anac\\Lib\\contextlib.py:155: UserWarning: Your input ran out of data; interrupting training. Make sure that your dataset or generator can generate at least `steps_per_epoch * epochs` batches. You may need to use the `.repeat()` function when building your dataset.\n",
      "  self.gen.throw(typ, value, traceback)\n"
     ]
    },
    {
     "name": "stdout",
     "output_type": "stream",
     "text": [
      "\u001b[1m55/55\u001b[0m \u001b[32m━━━━━━━━━━━━━━━━━━━━\u001b[0m\u001b[37m\u001b[0m \u001b[1m415s\u001b[0m 7s/step - accuracy: 0.1609 - loss: 2.4347 - precision_6: 0.0000e+00 - val_accuracy: 0.1424 - val_loss: 2.2995 - val_precision_6: 0.0000e+00\n",
      "Epoch 2/5\n",
      "\u001b[1m55/55\u001b[0m \u001b[32m━━━━━━━━━━━━━━━━━━━━\u001b[0m\u001b[37m\u001b[0m \u001b[1m131s\u001b[0m 2s/step - accuracy: 0.1847 - loss: 2.2978 - precision_6: 0.0000e+00 - val_accuracy: 0.2133 - val_loss: 2.3001 - val_precision_6: 0.0000e+00\n",
      "Epoch 3/5\n",
      "\u001b[1m55/55\u001b[0m \u001b[32m━━━━━━━━━━━━━━━━━━━━\u001b[0m\u001b[37m\u001b[0m \u001b[1m136s\u001b[0m 2s/step - accuracy: 0.1994 - loss: 2.2802 - precision_6: 0.0000e+00 - val_accuracy: 0.1671 - val_loss: 2.2970 - val_precision_6: 0.0000e+00\n",
      "Epoch 4/5\n",
      "\u001b[1m55/55\u001b[0m \u001b[32m━━━━━━━━━━━━━━━━━━━━\u001b[0m\u001b[37m\u001b[0m \u001b[1m140s\u001b[0m 3s/step - accuracy: 0.1998 - loss: 2.2959 - precision_6: 0.0000e+00 - val_accuracy: 0.2127 - val_loss: 2.3049 - val_precision_6: 0.0000e+00\n",
      "Epoch 5/5\n",
      "\u001b[1m55/55\u001b[0m \u001b[32m━━━━━━━━━━━━━━━━━━━━\u001b[0m\u001b[37m\u001b[0m \u001b[1m140s\u001b[0m 3s/step - accuracy: 0.2138 - loss: 2.2897 - precision_6: 0.0000e+00 - val_accuracy: 0.2127 - val_loss: 2.2986 - val_precision_6: 0.0000e+00\n"
     ]
    }
   ],
   "source": [
    "history = model.fit(x_train_padded, y_train_encoded, epochs=5, batch_size=128,\n",
    "                    validation_data=(x_test_padded, y_test_encoded), \n",
    "                    validation_steps=30)"
   ]
  },
  {
   "cell_type": "markdown",
   "metadata": {
    "id": "85JlkIQXorxg"
   },
   "source": [
    "#### Evaluation"
   ]
  },
  {
   "cell_type": "markdown",
   "metadata": {},
   "source": [
    "**Evaluation metric:**\n",
    "Precision"
   ]
  },
  {
   "cell_type": "code",
   "execution_count": 160,
   "metadata": {},
   "outputs": [
    {
     "name": "stdout",
     "output_type": "stream",
     "text": [
      "\u001b[1m55/55\u001b[0m \u001b[32m━━━━━━━━━━━━━━━━━━━━\u001b[0m\u001b[37m\u001b[0m \u001b[1m16s\u001b[0m 273ms/step - accuracy: 0.2013 - loss: 2.3165 - precision_6: 0.0000e+00\n"
     ]
    },
    {
     "ename": "ValueError",
     "evalue": "too many values to unpack (expected 2)",
     "output_type": "error",
     "traceback": [
      "\u001b[1;31m---------------------------------------------------------------------------\u001b[0m",
      "\u001b[1;31mValueError\u001b[0m                                Traceback (most recent call last)",
      "Cell \u001b[1;32mIn[160], line 1\u001b[0m\n\u001b[1;32m----> 1\u001b[0m test_loss, test_acc \u001b[38;5;241m=\u001b[39m model\u001b[38;5;241m.\u001b[39mevaluate(x_test_padded, y_test_encoded)\n\u001b[0;32m      3\u001b[0m \u001b[38;5;28mprint\u001b[39m(\u001b[38;5;124m'\u001b[39m\u001b[38;5;124mTest Loss: \u001b[39m\u001b[38;5;132;01m{}\u001b[39;00m\u001b[38;5;124m'\u001b[39m\u001b[38;5;241m.\u001b[39mformat(test_loss))\n\u001b[0;32m      4\u001b[0m \u001b[38;5;28mprint\u001b[39m(\u001b[38;5;124m'\u001b[39m\u001b[38;5;124mTest Accuracy: \u001b[39m\u001b[38;5;132;01m{}\u001b[39;00m\u001b[38;5;124m'\u001b[39m\u001b[38;5;241m.\u001b[39mformat(test_acc))\n",
      "\u001b[1;31mValueError\u001b[0m: too many values to unpack (expected 2)"
     ]
    }
   ],
   "source": [
    "test_loss, test_acc = model.evaluate(x_test_padded, y_test_encoded)\n",
    "print(test_loss)\n",
    "print('Test Loss: {}'.format(test_loss))\n",
    "print('Test Accuracy: {}'.format(test_acc))"
   ]
  },
  {
   "cell_type": "code",
   "execution_count": 161,
   "metadata": {
    "id": "37C70N6Aorxh"
   },
   "outputs": [
    {
     "name": "stdout",
     "output_type": "stream",
     "text": [
      "\u001b[1m55/55\u001b[0m \u001b[32m━━━━━━━━━━━━━━━━━━━━\u001b[0m\u001b[37m\u001b[0m \u001b[1m13s\u001b[0m 226ms/step - accuracy: 0.2013 - loss: 2.3165 - precision_6: 0.0000e+00\n"
     ]
    },
    {
     "data": {
      "text/plain": [
       "[2.298593044281006, 0.21268011629581451, 0.0]"
      ]
     },
     "execution_count": 161,
     "metadata": {},
     "output_type": "execute_result"
    }
   ],
   "source": [
    "model.evaluate(x_test_padded, y_test_encoded)"
   ]
  },
  {
   "cell_type": "code",
   "execution_count": null,
   "metadata": {
    "id": "LxBF_HEsorxh"
   },
   "outputs": [],
   "source": []
  },
  {
   "cell_type": "markdown",
   "metadata": {
    "id": "fhVFUaIcorxh"
   },
   "source": [
    "### Enhancement"
   ]
  },
  {
   "cell_type": "code",
   "execution_count": null,
   "metadata": {
    "id": "Y4h1Danvorxh"
   },
   "outputs": [],
   "source": []
  },
  {
   "cell_type": "code",
   "execution_count": null,
   "metadata": {
    "id": "ZDsCjdqsorxi"
   },
   "outputs": [],
   "source": []
  },
  {
   "cell_type": "code",
   "execution_count": null,
   "metadata": {},
   "outputs": [],
   "source": []
  },
  {
   "cell_type": "markdown",
   "metadata": {},
   "source": [
    "### Conclusion and final results\n"
   ]
  },
  {
   "cell_type": "code",
   "execution_count": null,
   "metadata": {},
   "outputs": [],
   "source": []
  },
  {
   "cell_type": "code",
   "execution_count": null,
   "metadata": {},
   "outputs": [],
   "source": []
  },
  {
   "cell_type": "markdown",
   "metadata": {
    "id": "Nw1GVnYLorxi"
   },
   "source": [
    "#### Done!"
   ]
  }
 ],
 "metadata": {
  "colab": {
   "provenance": []
  },
  "kernelspec": {
   "display_name": "Python 3 (ipykernel)",
   "language": "python",
   "name": "python3"
  },
  "language_info": {
   "codemirror_mode": {
    "name": "ipython",
    "version": 3
   },
   "file_extension": ".py",
   "mimetype": "text/x-python",
   "name": "python",
   "nbconvert_exporter": "python",
   "pygments_lexer": "ipython3",
   "version": "3.11.5"
  }
 },
 "nbformat": 4,
 "nbformat_minor": 4
}
